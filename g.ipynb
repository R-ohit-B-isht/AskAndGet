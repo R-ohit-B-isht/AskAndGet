{
 "cells": [
  {
   "cell_type": "code",
   "execution_count": 1,
   "metadata": {},
   "outputs": [
    {
     "ename": "ValueError",
     "evalue": "Authorized user info was not in the expected format, missing fields client_secret, client_id, refresh_token.",
     "output_type": "error",
     "traceback": [
      "\u001b[0;31m---------------------------------------------------------------------------\u001b[0m",
      "\u001b[0;31mValueError\u001b[0m                                Traceback (most recent call last)",
      "Cell \u001b[0;32mIn[1], line 4\u001b[0m\n\u001b[1;32m      2\u001b[0m info\u001b[39m=\u001b[39m{\u001b[39m\"\u001b[39m\u001b[39mweb\u001b[39m\u001b[39m\"\u001b[39m:{\u001b[39m\"\u001b[39m\u001b[39mclient_id\u001b[39m\u001b[39m\"\u001b[39m:\u001b[39m\"\u001b[39m\u001b[39m988173885659-ilsl4h205srtae0svcc8gmm4c2po4j74.apps.googleusercontent.com\u001b[39m\u001b[39m\"\u001b[39m,\u001b[39m\"\u001b[39m\u001b[39mproject_id\u001b[39m\u001b[39m\"\u001b[39m:\u001b[39m\"\u001b[39m\u001b[39maskandget\u001b[39m\u001b[39m\"\u001b[39m,\u001b[39m\"\u001b[39m\u001b[39mauth_uri\u001b[39m\u001b[39m\"\u001b[39m:\u001b[39m\"\u001b[39m\u001b[39mhttps://accounts.google.com/o/oauth2/auth\u001b[39m\u001b[39m\"\u001b[39m,\u001b[39m\"\u001b[39m\u001b[39mtoken_uri\u001b[39m\u001b[39m\"\u001b[39m:\u001b[39m\"\u001b[39m\u001b[39mhttps://oauth2.googleapis.com/token\u001b[39m\u001b[39m\"\u001b[39m,\u001b[39m\"\u001b[39m\u001b[39mauth_provider_x509_cert_url\u001b[39m\u001b[39m\"\u001b[39m:\u001b[39m\"\u001b[39m\u001b[39mhttps://www.googleapis.com/oauth2/v1/certs\u001b[39m\u001b[39m\"\u001b[39m,\u001b[39m\"\u001b[39m\u001b[39mclient_secret\u001b[39m\u001b[39m\"\u001b[39m:\u001b[39m\"\u001b[39m\u001b[39mGOCSPX-P6fW02pz51hm8IPA7RAnONuw_CLJ\u001b[39m\u001b[39m\"\u001b[39m}}\n\u001b[1;32m      3\u001b[0m \u001b[39m# Load the OAuth 2.0 client credentials from a JSON file\u001b[39;00m\n\u001b[0;32m----> 4\u001b[0m creds \u001b[39m=\u001b[39m Credentials\u001b[39m.\u001b[39;49mfrom_authorized_user_info(info\u001b[39m=\u001b[39;49minfo)\n\u001b[1;32m      6\u001b[0m \u001b[39m# Use the OAuth 2.0 client credentials to authorize your API requests\u001b[39;00m\n\u001b[1;32m      7\u001b[0m service \u001b[39m=\u001b[39m build(\u001b[39m'\u001b[39m\u001b[39mwebmasters\u001b[39m\u001b[39m'\u001b[39m, \u001b[39m'\u001b[39m\u001b[39mv3\u001b[39m\u001b[39m'\u001b[39m, credentials\u001b[39m=\u001b[39mcreds)\n",
      "File \u001b[0;32m/workspace/.pyenv_mirror/user/current/lib/python3.8/site-packages/google/oauth2/credentials.py:390\u001b[0m, in \u001b[0;36mCredentials.from_authorized_user_info\u001b[0;34m(cls, info, scopes)\u001b[0m\n\u001b[1;32m    387\u001b[0m missing \u001b[39m=\u001b[39m keys_needed\u001b[39m.\u001b[39mdifference(six\u001b[39m.\u001b[39miterkeys(info))\n\u001b[1;32m    389\u001b[0m \u001b[39mif\u001b[39;00m missing:\n\u001b[0;32m--> 390\u001b[0m     \u001b[39mraise\u001b[39;00m \u001b[39mValueError\u001b[39;00m(\n\u001b[1;32m    391\u001b[0m         \u001b[39m\"\u001b[39m\u001b[39mAuthorized user info was not in the expected format, missing \u001b[39m\u001b[39m\"\u001b[39m\n\u001b[1;32m    392\u001b[0m         \u001b[39m\"\u001b[39m\u001b[39mfields \u001b[39m\u001b[39m{}\u001b[39;00m\u001b[39m.\u001b[39m\u001b[39m\"\u001b[39m\u001b[39m.\u001b[39mformat(\u001b[39m\"\u001b[39m\u001b[39m, \u001b[39m\u001b[39m\"\u001b[39m\u001b[39m.\u001b[39mjoin(missing))\n\u001b[1;32m    393\u001b[0m     )\n\u001b[1;32m    395\u001b[0m \u001b[39m# access token expiry (datetime obj); auto-expire if not saved\u001b[39;00m\n\u001b[1;32m    396\u001b[0m expiry \u001b[39m=\u001b[39m info\u001b[39m.\u001b[39mget(\u001b[39m\"\u001b[39m\u001b[39mexpiry\u001b[39m\u001b[39m\"\u001b[39m)\n",
      "\u001b[0;31mValueError\u001b[0m: Authorized user info was not in the expected format, missing fields client_secret, client_id, refresh_token."
     ]
    }
   ],
   "source": [
    "from google.oauth2.credentials import Credentials\n",
    "\n",
    "info={\"web\":{\"client_id\":\"988173885659-ilsl4h205srtae0svcc8gmm4c2po4j74.apps.googleusercontent.com\",\"project_id\":\"askandget\",\"auth_uri\":\"https://accounts.google.com/o/oauth2/auth\",\"token_uri\":\"https://oauth2.googleapis.com/token\",\"auth_provider_x509_cert_url\":\"https://www.googleapis.com/oauth2/v1/certs\",\"client_secret\":\"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\"}}\n",
    "# Load the OAuth 2.0 client credentials from a JSON file\n",
    "creds = Credentials.from_authorized_user_info(info=info)\n",
    "\n",
    "# Use the OAuth 2.0 client credentials to authorize your API requests\n",
    "service = build('webmasters', 'v3', credentials=creds)"
   ]
  }
 ],
 "metadata": {
  "kernelspec": {
   "display_name": "Python 3",
   "language": "python",
   "name": "python3"
  },
  "language_info": {
   "codemirror_mode": {
    "name": "ipython",
    "version": 3
   },
   "file_extension": ".py",
   "mimetype": "text/x-python",
   "name": "python",
   "nbconvert_exporter": "python",
   "pygments_lexer": "ipython3",
   "version": "3.8.13"
  },
  "orig_nbformat": 4,
  "vscode": {
   "interpreter": {
    "hash": "9ac03a0a6051494cc606d484d27d20fce22fb7b4d169f583271e11d5ba46a56e"
   }
  }
 },
 "nbformat": 4,
 "nbformat_minor": 2
}
